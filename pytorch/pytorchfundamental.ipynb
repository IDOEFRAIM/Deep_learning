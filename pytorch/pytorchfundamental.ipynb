{
 "cells": [
  {
   "cell_type": "markdown",
   "id": "898486ca-0a95-400c-a863-afb42caf56d6",
   "metadata": {},
   "source": [
    "#Fundamentals"
   ]
  },
  {
   "cell_type": "code",
   "execution_count": 3,
   "id": "c86daf67-50d3-42a7-9261-ba40815acf66",
   "metadata": {},
   "outputs": [
    {
     "name": "stdout",
     "output_type": "stream",
     "text": [
      "2.8.0+cpu\n"
     ]
    }
   ],
   "source": [
    "import torch\n",
    "import pandas as pd\n",
    "import matplotlib as plt\n",
    "print(torch.__version__)  #see the pytorch version"
   ]
  },
  {
   "cell_type": "markdown",
   "id": "ad17a2e3-7991-453a-86cf-6752b5658f8c",
   "metadata": {},
   "source": [
    "## Intro to tensors\n",
    "We can create tensors by using this command: torch.tensor(value)\n",
    "Tensors are usedto store data;We can only put in numbers. Numbers are not allowed"
   ]
  },
  {
   "cell_type": "code",
   "execution_count": 5,
   "id": "d7232672-74b6-4f08-9084-052d80bb90fb",
   "metadata": {},
   "outputs": [
    {
     "name": "stdout",
     "output_type": "stream",
     "text": [
      "tensor(2) The dimension of scalar is 0\n"
     ]
    }
   ],
   "source": [
    "# scalar:just one value\n",
    "scalar = torch.tensor(2)\n",
    "\n",
    "print(scalar,f'The dimension of scalar is {scalar.ndim}' )"
   ]
  },
  {
   "cell_type": "code",
   "execution_count": 6,
   "id": "d488581f-daf5-41f2-bfd2-da8ea42bf2df",
   "metadata": {},
   "outputs": [
    {
     "name": "stdout",
     "output_type": "stream",
     "text": [
      "the vector tensor([3, 3, 4]) has a dimension of 0 and its size is torch.Size([3])\n"
     ]
    }
   ],
   "source": [
    "#Vector:it is a set of value, like a one dimension array\n",
    "vector = torch.tensor([3,3,4])\n",
    "print(f'the vector {vector} has a dimension of {vector.ndim} and its size is {vector.shape}' )"
   ]
  },
  {
   "cell_type": "code",
   "execution_count": 10,
   "id": "fea70ed7-544d-478e-a0f8-878cf173e2c9",
   "metadata": {},
   "outputs": [
    {
     "name": "stdout",
     "output_type": "stream",
     "text": [
      "the matrix tensor([[   3,    4,    4,    9],\n",
      "        [   6,    8,  989, 6760]]) has a dimension of 2 and its size is torch.Size([2, 4])\n",
      "The first row of the matrix : tensor([3, 4, 4, 9]) ,the first column is tensor([   6,    8,  989, 6760])\n"
     ]
    }
   ],
   "source": [
    "#Matrix:it is 2dim array: it is like a squarre\n",
    "matrix = torch.tensor([\n",
    "    [3,4,4  ,9],\n",
    "    [6,8,989,6760]\n",
    "])\n",
    "print(f'the matrix {matrix} has a dimension of {matrix.ndim} and its size is {matrix.shape}' )\n",
    "print(f'The first row of the matrix : { matrix[0] } ,the second column is {matrix[1]}')\n",
    "print(matrix[0][1])"
   ]
  },
  {
   "cell_type": "code",
   "execution_count": 17,
   "id": "8ca94636-07f4-4be1-8026-daffe94f9a8f",
   "metadata": {},
   "outputs": [
    {
     "name": "stdout",
     "output_type": "stream",
     "text": [
      "the matrix tensor([[[[   1,    7,   82,   23,  534, 6436],\n",
      "          [  23,  989,  826,   64,   57,   57]],\n",
      "\n",
      "         [[ 563,   28,  743,  645,  645,    7],\n",
      "          [  45,  745,  745,    7,   45,  542]]],\n",
      "\n",
      "\n",
      "        [[[   1,    7,   84,  564,   57,    8],\n",
      "          [  23,  989,    8,  268,   78,    9]],\n",
      "\n",
      "         [[ 563,   28,  743,  645,  645,    7],\n",
      "          [  45,  745,  745,    7,   45,  542]]]]) has a dimension of 4 and its size is torch.Size([2, 2, 2, 6])\n",
      "tensor(4)\n"
     ]
    }
   ],
   "source": [
    "#Higher dimensinon tensors\n",
    "#Tensor are not limited to 2Dimension.We can go higher 4 5 999\n",
    "#3D is like a cube\n",
    "#4d is set of cube\n",
    "#here we just craft a 4dimension\n",
    "#Always kep in mind this kind of presentation ...With exerciceyou will learn and master how it worked\n",
    "tensor = torch.tensor([\n",
    "    [\n",
    "        [\n",
    "            [1,7,82,23,534,6436],[23,989,826,64,57,57]\n",
    "        ],\n",
    "        [\n",
    "            [563,28,743,645,645,7],[45,745,745,7,45,542]\n",
    "        ]\n",
    "    ],\n",
    "    [\n",
    "        [\n",
    "            [1,7,84,564,57,8],[23,989,8,268,78,9]\n",
    "        ],\n",
    "        [\n",
    "            [563,28,743,645,645,7],[45,745,745,7,45,542],\n",
    "        ],\n",
    "    ]\n",
    "])\n",
    "print(f'the matrix {tensor} has a dimension of {tensor.ndim} and its size is {tensor.shape}' )\n",
    "print(matrix[0][1])\n",
    "\n",
    "##try yourself for a better and deeper understanding"
   ]
  },
  {
   "cell_type": "markdown",
   "id": "6c921782-62a0-42a8-b3ec-95de613c2eaa",
   "metadata": {},
   "source": [
    "## Random tensors\n",
    "# We usually initialize tensors with some random data. With suitable algorithms such gradient descent, their values are optimized\n"
   ]
  },
  {
   "cell_type": "code",
   "execution_count": 20,
   "id": "6bf389b4-17f0-4254-bdd1-73a45d60a0ea",
   "metadata": {},
   "outputs": [
    {
     "name": "stdout",
     "output_type": "stream",
     "text": [
      "tensor([[0.5131, 0.0236],\n",
      "        [0.3865, 0.6027],\n",
      "        [0.0373, 0.1401]])\n",
      "tensor([[[0.7136, 0.4570],\n",
      "         [0.4479, 0.5501]],\n",
      "\n",
      "        [[0.0599, 0.3854],\n",
      "         [0.2199, 0.2316]],\n",
      "\n",
      "        [[0.7420, 0.1915],\n",
      "         [0.7636, 0.9548]]])\n"
     ]
    }
   ],
   "source": [
    "#For setting random tensor,this is he syntax : torch(dimension)\n",
    "random2DTendor = torch.rand(3,2)\n",
    "random3DTendor = torch.rand(3,2,2)\n",
    "print(random2DTendor)\n",
    "print(random3DTendor)"
   ]
  },
  {
   "cell_type": "code",
   "execution_count": 23,
   "id": "727d1c0f-62b3-49c0-8570-851caba3d2ae",
   "metadata": {},
   "outputs": [],
   "source": [
    "# Make a tensor which has the same dimension than an picture or image: height weight color channel (R,G,B) \n",
    "random_image = torch.rand(size=(224,224,3))\n",
    "#print(random_image)"
   ]
  },
  {
   "cell_type": "markdown",
   "id": "61b6484d-09cc-496e-b967-f2c7dc6c18ec",
   "metadata": {},
   "source": [
    "## Zeros and Ones\n",
    "Like in numpy, we can create a tensor fulled with zeros or ones"
   ]
  },
  {
   "cell_type": "code",
   "execution_count": 28,
   "id": "b6ab0970-2356-4e9d-89c8-ea30caee6731",
   "metadata": {},
   "outputs": [
    {
     "name": "stdout",
     "output_type": "stream",
     "text": [
      "The random tensor datatype is torch.float32\n"
     ]
    }
   ],
   "source": [
    "#the syntax is torch.zeros(dimension)\n",
    "zeros_tensors = torch.zeros(size=(3,3,2))\n",
    "ones_tensors = torch.ones(size=(3,2,2))\n",
    "#print(zeros_tensors)\n",
    "#print(ones_tensors)\n",
    "print(f\"The random tensor datatype is {ones_tensors.dtype}\")"
   ]
  },
  {
   "cell_type": "code",
   "execution_count": 30,
   "id": "056d708f-a747-4429-883d-0763ae5aa978",
   "metadata": {},
   "outputs": [
    {
     "name": "stdout",
     "output_type": "stream",
     "text": [
      "tensor([ 1,  4,  7, 10, 13, 16, 19])\n"
     ]
    }
   ],
   "source": [
    "# like in numpy we have arange method, like counting from one value to other with stepper\n",
    "# syntax: torch.arange(start,end,step)\n",
    "one_to_20 = torch.arange(1,20,3)\n",
    "print(one_to_20)"
   ]
  },
  {
   "cell_type": "markdown",
   "id": "2fb53406-5097-4b2a-a6e2-144c5d9482ee",
   "metadata": {},
   "source": [
    "## Tensor datatype"
   ]
  },
  {
   "cell_type": "code",
   "execution_count": 31,
   "id": "7f6c78c2-6828-4a51-a128-266a1a1540fd",
   "metadata": {},
   "outputs": [
    {
     "name": "stdout",
     "output_type": "stream",
     "text": [
      "tensor([ 3.4000,  2.9000, 24.4000])\n"
     ]
    }
   ],
   "source": [
    "#By default tensor have a datatype of float 32  tensor\n",
    "float_32_tensor = torch.tensor([3.4,2.9,24.4],\n",
    "                              dtype=None)\n",
    "\n",
    "print(float_32_tensor)"
   ]
  },
  {
   "cell_type": "markdown",
   "id": "79a27300-7c7c-43dd-b9a0-b826f4391c94",
   "metadata": {},
   "source": [
    "## Tensor operations\n",
    "We can handle tensors by using MATHS\n",
    "* Addition and Substraction\n",
    "* Multiplication and Division"
   ]
  },
  {
   "cell_type": "code",
   "execution_count": 33,
   "id": "b6adb074-1492-4c5d-9aec-b6cbc4022aac",
   "metadata": {},
   "outputs": [
    {
     "name": "stdout",
     "output_type": "stream",
     "text": [
      "tensor([-221,  -20,  -33,  -53,  -60])\n",
      "tensor([225,  88,  39,  61,  70])\n",
      "tensor([ 6, 38,  7,  8,  9])\n"
     ]
    }
   ],
   "source": [
    "# We can sum or subtract 2 tensors when they have the same dimension\n",
    "tensor1 = torch.tensor([2,34,3,4,5])\n",
    "tensor2 = torch.tensor([223,54,36,57,65])\n",
    "print(tensor1-tensor2)\n",
    "print(tensor1 + tensor2)\n",
    "print(tensor1 + 4) # through BROADCASTING"
   ]
  },
  {
   "cell_type": "code",
   "execution_count": 37,
   "id": "44810e41-8232-4cff-8be6-ebe0ed55c686",
   "metadata": {},
   "outputs": [
    {
     "name": "stdout",
     "output_type": "stream",
     "text": [
      "tensor([[  10,   70,  840, 5640,  570],\n",
      "        [ 230, 9890,   80, 2680,  780],\n",
      "        [5630,  280, 7430, 6450,  640],\n",
      "        [ 450, 7450, 7450,   70,  450]])\n",
      "tensor([[     1,  16261,   1932,  29892,    228],\n",
      "        [   529, 978121,   6608,  17152,   4446],\n",
      "        [316969,    784, 552049, 416025,  41280],\n",
      "        [  2025, 555025, 555025,     49,   2025]])\n"
     ]
    }
   ],
   "source": [
    "# tensor Multiplication follows the algebre principle. \n",
    "tensor3 = torch.tensor([\n",
    "            [1,2323,23,53,4],\n",
    "            [23,989,826,64,57],\n",
    "            [563,28,743,645,645],\n",
    "            [45,745,745,7,45] \n",
    "])\n",
    "tensor4 = torch.tensor([\n",
    "            [1,7,84,564,57],\n",
    "            [23,989,8,268,78],\n",
    "            [563,28,743,645,64],\n",
    "            [45,745,745,7,45]\n",
    "])\n",
    "print(tensor4 * 10)\n",
    "print(tensor3 * tensor4) # Algebrist , remark torch transposes for multiplying"
   ]
  },
  {
   "cell_type": "code",
   "execution_count": 38,
   "id": "8fde606b-b4a2-453b-8a3e-e0774419d6aa",
   "metadata": {},
   "outputs": [
    {
     "name": "stdout",
     "output_type": "stream",
     "text": [
      "tensor([[   3, 2357,   26,   57,    9],\n",
      "        [  25, 1023,  829,   68,   62],\n",
      "        [ 565,   62,  746,  649,  650],\n",
      "        [  47,  779,  748,   11,   50]])\n",
      "tensor([[     1,  16261,   1932,  29892,    228],\n",
      "        [   529, 978121,   6608,  17152,   4446],\n",
      "        [316969,    784, 552049, 416025,  41280],\n",
      "        [  2025, 555025, 555025,     49,   2025]])\n"
     ]
    }
   ],
   "source": [
    "# prebuilt function\n",
    "print(torch.add(tensor1,tensor3))\n",
    "print(torch.mul(tensor3,tensor4))\n"
   ]
  },
  {
   "cell_type": "markdown",
   "id": "797ffa8a-1c9e-4d60-a7fa-d8bf373ed836",
   "metadata": {},
   "source": [
    "## Tensor Aggregation\n",
    "we just use some statistic methods such as min max"
   ]
  },
  {
   "cell_type": "code",
   "execution_count": 46,
   "id": "49b3a926-95af-405c-be6d-14a7eb125130",
   "metadata": {},
   "outputs": [
    {
     "name": "stdout",
     "output_type": "stream",
     "text": [
      "tensor(1) tensor(1)\n",
      "tensor(21) tensor(21)\n",
      "tensor(1) tensor(1)\n",
      "tensor(11.) tensor(11.)\n",
      "tensor(231)\n"
     ]
    }
   ],
   "source": [
    "y = torch. arange(1,22)\n",
    "# Finding the min\n",
    "print(torch.min(y),y.min())\n",
    "\n",
    "# Finding the max\n",
    "print(torch.max(y),y.max())\n",
    "\n",
    "# Finding the min\n",
    "print(torch.min(y),y.min())\n",
    "\n",
    "# Finding the min : take a caution. Mean works with particular datatype (float 32) if yo use Long datatype such float64 it will throw a error.Avoid long or float64\n",
    "print(torch.mean(y.type(torch.float32)),y.type(torch.float32).mean())\n",
    "\n",
    "#we can sum element of a tensor\n",
    "print(y.sum())"
   ]
  },
  {
   "cell_type": "code",
   "execution_count": 48,
   "id": "b1165a45-4297-4405-a2cb-ec4376795602",
   "metadata": {},
   "outputs": [
    {
     "name": "stdout",
     "output_type": "stream",
     "text": [
      "the argument_of_smallest :0\n",
      "the argument_of_highest :20\n"
     ]
    }
   ],
   "source": [
    "#When we work with probability and wanna find the highest, we often use the position of the highest\n",
    "print(f'the argument_of_smallest :{ y.argmin()}')\n",
    "print(f'the argument_of_highest :{ y.argmax()}')"
   ]
  },
  {
   "cell_type": "code",
   "execution_count": null,
   "id": "036272d4-4252-4c30-99e2-81d29f822e87",
   "metadata": {},
   "outputs": [],
   "source": []
  }
 ],
 "metadata": {
  "kernelspec": {
   "display_name": "Python 3 (ipykernel)",
   "language": "python",
   "name": "python3"
  },
  "language_info": {
   "codemirror_mode": {
    "name": "ipython",
    "version": 3
   },
   "file_extension": ".py",
   "mimetype": "text/x-python",
   "name": "python",
   "nbconvert_exporter": "python",
   "pygments_lexer": "ipython3",
   "version": "3.13.5"
  }
 },
 "nbformat": 4,
 "nbformat_minor": 5
}
